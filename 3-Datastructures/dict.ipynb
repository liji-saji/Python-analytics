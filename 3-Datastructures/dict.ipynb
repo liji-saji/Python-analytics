{
 "cells": [
  {
   "cell_type": "markdown",
   "metadata": {},
   "source": [
    "Common Dictionary Methods\n",
    "Method\tDescription\n",
    "dict.keys()\t  ---  Returns a view object of all keys in the dictionary.\n",
    "dict.values() ---\tReturns a view object of all values in the dictionary.\n",
    "dict.items() --- Returns a view object of all key-value pairs.\n",
    "dict.get(key) ---\tReturns the value for a key, or None if the key doesn't exist.\n",
    "dict.update({key: value}) ---\tUpdates the dictionary with the given key-value pairs.\n",
    "dict.pop(key) ---\tRemoves the key and returns its value.\n",
    "dict.clear() ---\tRemoves all elements from the dictionary.\n"
   ]
  },
  {
   "cell_type": "code",
   "execution_count": 29,
   "metadata": {},
   "outputs": [
    {
     "data": {
      "text/plain": [
       "dict"
      ]
     },
     "execution_count": 29,
     "metadata": {},
     "output_type": "execute_result"
    }
   ],
   "source": [
    "emppty_dic={}\n",
    "type(emppty_dic)"
   ]
  },
  {
   "cell_type": "code",
   "execution_count": 30,
   "metadata": {},
   "outputs": [
    {
     "data": {
      "text/plain": [
       "{'Name': 'Liji', 'Age': '24', 'Course': 'Data Science'}"
      ]
     },
     "execution_count": 30,
     "metadata": {},
     "output_type": "execute_result"
    }
   ],
   "source": [
    "#key should be unique\n",
    "student={'Name':'Liji','Age':'24','Course':'Data Science'}\n",
    "student"
   ]
  },
  {
   "cell_type": "code",
   "execution_count": 31,
   "metadata": {},
   "outputs": [
    {
     "data": {
      "text/plain": [
       "'Liji'"
      ]
     },
     "execution_count": 31,
     "metadata": {},
     "output_type": "execute_result"
    }
   ],
   "source": [
    "#accessing values\n",
    "student['Name']"
   ]
  },
  {
   "cell_type": "code",
   "execution_count": 32,
   "metadata": {},
   "outputs": [
    {
     "data": {
      "text/plain": [
       "'Liji'"
      ]
     },
     "execution_count": 32,
     "metadata": {},
     "output_type": "execute_result"
    }
   ],
   "source": [
    "student.get('Name')"
   ]
  },
  {
   "cell_type": "code",
   "execution_count": 33,
   "metadata": {},
   "outputs": [
    {
     "data": {
      "text/plain": [
       "{'Name': 'Liji', 'Age': 25, 'Course': 'Data Science'}"
      ]
     },
     "execution_count": 33,
     "metadata": {},
     "output_type": "execute_result"
    }
   ],
   "source": [
    "#modifying values\n",
    "student['Age']=25\n",
    "student"
   ]
  },
  {
   "cell_type": "code",
   "execution_count": 34,
   "metadata": {},
   "outputs": [
    {
     "data": {
      "text/plain": [
       "{'Name': 'Liji', 'Age': 25, 'Course': 'Data Science', 'Grade': 80}"
      ]
     },
     "execution_count": 34,
     "metadata": {},
     "output_type": "execute_result"
    }
   ],
   "source": [
    "#adding new values\n",
    "student['Grade']=80\n",
    "student"
   ]
  },
  {
   "cell_type": "code",
   "execution_count": 35,
   "metadata": {},
   "outputs": [
    {
     "data": {
      "text/plain": [
       "{'Name': 'Liji', 'Age': 25, 'Course': 'Data Science'}"
      ]
     },
     "execution_count": 35,
     "metadata": {},
     "output_type": "execute_result"
    }
   ],
   "source": [
    "#deleting\n",
    "del student['Grade']\n",
    "student"
   ]
  },
  {
   "cell_type": "code",
   "execution_count": 36,
   "metadata": {},
   "outputs": [
    {
     "data": {
      "text/plain": [
       "dict_keys(['Name', 'Age', 'Course'])"
      ]
     },
     "execution_count": 36,
     "metadata": {},
     "output_type": "execute_result"
    }
   ],
   "source": [
    "#dictionary methods\n",
    "student.keys()"
   ]
  },
  {
   "cell_type": "code",
   "execution_count": 37,
   "metadata": {},
   "outputs": [
    {
     "data": {
      "text/plain": [
       "dict_values(['Liji', 25, 'Data Science'])"
      ]
     },
     "execution_count": 37,
     "metadata": {},
     "output_type": "execute_result"
    }
   ],
   "source": [
    "student.values()"
   ]
  },
  {
   "cell_type": "code",
   "execution_count": 38,
   "metadata": {},
   "outputs": [
    {
     "data": {
      "text/plain": [
       "dict_items([('Name', 'Liji'), ('Age', 25), ('Course', 'Data Science')])"
      ]
     },
     "execution_count": 38,
     "metadata": {},
     "output_type": "execute_result"
    }
   ],
   "source": [
    "student.items()"
   ]
  },
  {
   "cell_type": "code",
   "execution_count": 39,
   "metadata": {},
   "outputs": [
    {
     "name": "stdout",
     "output_type": "stream",
     "text": [
      "25\n",
      "Not Assigned\n"
     ]
    }
   ],
   "source": [
    "age = student.get(\"Age\")\n",
    "print(age)  # Output: 25\n",
    "\n",
    "grade = student.get(\"grade\", \"Not Assigned\")\n",
    "print(grade)  # Output: Not Assigned bez if grade is not present return that value\n"
   ]
  },
  {
   "cell_type": "code",
   "execution_count": 42,
   "metadata": {},
   "outputs": [
    {
     "name": "stdout",
     "output_type": "stream",
     "text": [
      "{'Name': 'Liji', 'Age': 26, 'Course': 'Data Science', 'graduation_year': 2025}\n"
     ]
    }
   ],
   "source": [
    "student.update({\"Age\": 26, \"graduation_year\": 2025})\n",
    "print(student)  \n",
    "# Output: {'name': 'Liji', 'age': 26, 'course': 'Data Science', 'graduation_year': 2025}\n"
   ]
  },
  {
   "cell_type": "code",
   "execution_count": 43,
   "metadata": {},
   "outputs": [
    {
     "data": {
      "text/plain": [
       "26"
      ]
     },
     "execution_count": 43,
     "metadata": {},
     "output_type": "execute_result"
    }
   ],
   "source": [
    "student.pop(\"Age\")\n",
    "\n"
   ]
  },
  {
   "cell_type": "code",
   "execution_count": 44,
   "metadata": {},
   "outputs": [
    {
     "name": "stdout",
     "output_type": "stream",
     "text": [
      "('graduation_year', 2025)\n",
      "{'Name': 'Liji', 'Course': 'Data Science'}\n"
     ]
    }
   ],
   "source": [
    "last_item = student.popitem()\n",
    "print(last_item)  \n",
    "print(student)  \n"
   ]
  },
  {
   "cell_type": "code",
   "execution_count": 45,
   "metadata": {},
   "outputs": [
    {
     "name": "stdout",
     "output_type": "stream",
     "text": [
      "Name\n",
      "Course\n"
     ]
    }
   ],
   "source": [
    "#iterate over keys\n",
    "for key in student.keys():\n",
    "    print(key)"
   ]
  },
  {
   "cell_type": "code",
   "execution_count": 46,
   "metadata": {},
   "outputs": [
    {
     "name": "stdout",
     "output_type": "stream",
     "text": [
      "Liji\n",
      "Data Science\n"
     ]
    }
   ],
   "source": [
    "for value in student.values():\n",
    "    print(value)"
   ]
  },
  {
   "cell_type": "markdown",
   "metadata": {},
   "source": [
    "Creating a Nested Dictionary\n",
    "You can create a nested dictionary by assigning dictionaries as values to keys in an outer dictionary."
   ]
  },
  {
   "cell_type": "code",
   "execution_count": 47,
   "metadata": {},
   "outputs": [],
   "source": [
    "# Nested dictionary representing multiple students\n",
    "students = {\n",
    "    'student1': {\n",
    "        'name': 'Alice',\n",
    "        'age': 24,\n",
    "        'courses': ['Math', 'Physics']\n",
    "    },\n",
    "    'student2': {\n",
    "        'name': 'Bob',\n",
    "        'age': 22,\n",
    "        'courses': ['English', 'History']\n",
    "    }\n",
    "}\n"
   ]
  },
  {
   "cell_type": "code",
   "execution_count": 48,
   "metadata": {},
   "outputs": [
    {
     "name": "stdout",
     "output_type": "stream",
     "text": [
      "Alice\n",
      "['English', 'History']\n"
     ]
    }
   ],
   "source": [
    "# Accessing the name of student1\n",
    "print(students['student1']['name'])  # Output: Alice\n",
    "\n",
    "# Accessing the courses of student2\n",
    "print(students['student2']['courses'])  # Output: ['English', 'History']\n"
   ]
  },
  {
   "cell_type": "code",
   "execution_count": 49,
   "metadata": {},
   "outputs": [
    {
     "name": "stdout",
     "output_type": "stream",
     "text": [
      "25\n",
      "['English', 'History', 'Art']\n"
     ]
    }
   ],
   "source": [
    "# Updating the age of student1\n",
    "students['student1']['age'] = 25\n",
    "\n",
    "# Adding a new course to student2\n",
    "students['student2']['courses'].append('Art')\n",
    "\n",
    "print(students['student1']['age'])       # Output: 25\n",
    "print(students['student2']['courses'])   # Output: ['English', 'History', 'Art']\n"
   ]
  },
  {
   "cell_type": "code",
   "execution_count": 50,
   "metadata": {},
   "outputs": [
    {
     "name": "stdout",
     "output_type": "stream",
     "text": [
      "{'student1': {'name': 'Alice', 'age': 25, 'courses': ['Math', 'Physics']}, 'student3': {'name': 'Charlie', 'age': 23, 'courses': ['Biology', 'Chemistry']}}\n"
     ]
    }
   ],
   "source": [
    "# Adding a new student\n",
    "students['student3'] = {\n",
    "    'name': 'Charlie',\n",
    "    'age': 23,\n",
    "    'courses': ['Biology', 'Chemistry']\n",
    "}\n",
    "\n",
    "# Removing student2\n",
    "del students['student2']\n",
    "\n",
    "print(students)\n"
   ]
  },
  {
   "cell_type": "code",
   "execution_count": null,
   "metadata": {},
   "outputs": [],
   "source": []
  }
 ],
 "metadata": {
  "kernelspec": {
   "display_name": "Python 3",
   "language": "python",
   "name": "python3"
  },
  "language_info": {
   "codemirror_mode": {
    "name": "ipython",
    "version": 3
   },
   "file_extension": ".py",
   "mimetype": "text/x-python",
   "name": "python",
   "nbconvert_exporter": "python",
   "pygments_lexer": "ipython3",
   "version": "3.12.0"
  }
 },
 "nbformat": 4,
 "nbformat_minor": 2
}
