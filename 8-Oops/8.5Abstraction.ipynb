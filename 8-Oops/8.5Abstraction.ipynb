{
 "cells": [
  {
   "cell_type": "markdown",
   "metadata": {},
   "source": [
    "An abstract class is like a general rule or blueprint that says: \"If you create a specific type of this object, it must have certain behaviors.\"\n",
    "\n",
    "In our example, Vehicle is an abstract class. It has a method start_engine() that does not do anything by itself.\n",
    "Instead, it forces the subclasses (like Car and Motorcycle) to define their own version of start_engine()."
   ]
  },
  {
   "cell_type": "code",
   "execution_count": 1,
   "metadata": {},
   "outputs": [
    {
     "name": "stdout",
     "output_type": "stream",
     "text": [
      "Car engine started\n",
      "Motorcycle engine started\n"
     ]
    }
   ],
   "source": [
    "from abc import ABC, abstractmethod\n",
    "\n",
    "# Abstract class (a general blueprint)\n",
    "class Vehicle(ABC):  \n",
    "    @abstractmethod\n",
    "    def start_engine(self):  # This is a \"rule\"\n",
    "        pass  # No implementation here\n",
    "\n",
    "# Subclass 1: Car\n",
    "class Car(Vehicle):\n",
    "    def start_engine(self):  # Car's version of the rule\n",
    "        return \"Car engine started\"\n",
    "\n",
    "# Subclass 2: Motorcycle\n",
    "class Motorcycle(Vehicle):\n",
    "    def start_engine(self):  # Motorcycle's version of the rule\n",
    "        return \"Motorcycle engine started\"\n",
    "\n",
    "# A function to show polymorphism\n",
    "def start_vehicle(vehicle):  # Works with any Vehicle\n",
    "    print(vehicle.start_engine())\n",
    "\n",
    "# Create objects of Car and Motorcycle\n",
    "car = Car()\n",
    "motorcycle = Motorcycle()\n",
    "\n",
    "# Call the function\n",
    "start_vehicle(car)          # \"Car engine started\"\n",
    "start_vehicle(motorcycle)   # \"Motorcycle engine started\"\n"
   ]
  },
  {
   "cell_type": "markdown",
   "metadata": {},
   "source": [
    "In Summary\n",
    "Abstract Class: Defines the rule (e.g., every vehicle must have start_engine()).\n",
    "Subclasses: Follow the rule and define specific behavior.\n"
   ]
  }
 ],
 "metadata": {
  "kernelspec": {
   "display_name": "Python 3",
   "language": "python",
   "name": "python3"
  },
  "language_info": {
   "codemirror_mode": {
    "name": "ipython",
    "version": 3
   },
   "file_extension": ".py",
   "mimetype": "text/x-python",
   "name": "python",
   "nbconvert_exporter": "python",
   "pygments_lexer": "ipython3",
   "version": "3.12.0"
  }
 },
 "nbformat": 4,
 "nbformat_minor": 2
}
