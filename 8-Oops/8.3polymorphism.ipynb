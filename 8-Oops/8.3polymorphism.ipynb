{
 "cells": [
  {
   "cell_type": "markdown",
   "metadata": {},
   "source": [
    "Method overriding in Python refers to the ability of a subclass to provide its own specific implementation of a method that is already defined in its parent (base) class.\n",
    "\n",
    "When a subclass defines a method with the same name and parameters as a method in its parent class, the subclass's version overrides the parent class's version."
   ]
  },
  {
   "cell_type": "code",
   "execution_count": 11,
   "metadata": {},
   "outputs": [
    {
     "name": "stdout",
     "output_type": "stream",
     "text": [
      "I make a sound.\n",
      "Woof! Woof!\n",
      "Meow!\n"
     ]
    }
   ],
   "source": [
    "class Animal:\n",
    "    def speak(self):\n",
    "        return \"I make a sound.\"\n",
    "\n",
    "class Dog(Animal):\n",
    "    def speak(self):  # Overriding the 'speak' method\n",
    "        return \"Woof! Woof!\"\n",
    "\n",
    "class Cat(Animal):\n",
    "    def speak(self):  # Overriding the 'speak' method\n",
    "        return \"Meow!\"\n",
    "\n",
    "# Instances of each class\n",
    "animal = Animal()\n",
    "dog = Dog()\n",
    "cat = Cat()\n",
    "\n",
    "# Calling the same method on different objects\n",
    "print(animal.speak())  # Output: I make a sound.\n",
    "print(dog.speak())     # Output: Woof! Woof!\n",
    "print(cat.speak())     # Output: Meow!"
   ]
  },
  {
   "cell_type": "code",
   "execution_count": 2,
   "metadata": {},
   "outputs": [
    {
     "name": "stdout",
     "output_type": "stream",
     "text": [
      "bow\n",
      "Meow\n"
     ]
    }
   ],
   "source": [
    "#Base_class\n",
    "class Animal:\n",
    "    def speak(self):\n",
    "        return 'sound of the animal'\n",
    "#derived class animal\n",
    "class Dog(Animal):\n",
    "    def speak(self):\n",
    "        return 'bow'\n",
    "class Cat(Animal):\n",
    "    def speak(self):\n",
    "        return('Meow')\n",
    "dog_1=Dog()\n",
    "print(dog_1.speak())\n",
    "\n",
    "cat=Cat()\n",
    "print(cat.speak())\n",
    "\n"
   ]
  },
  {
   "cell_type": "code",
   "execution_count": 10,
   "metadata": {},
   "outputs": [
    {
     "name": "stdout",
     "output_type": "stream",
     "text": [
      "area is 20\n",
      "area is 78.5\n"
     ]
    }
   ],
   "source": [
    "#polymorphism with methods and functions\n",
    "class Shape:\n",
    "    def area(self):\n",
    "        return 'area of the figure'\n",
    "class rectangle(Shape):\n",
    "    def __init__(self, width, height):\n",
    "        self.width=width\n",
    "        self.height=height\n",
    "    def area(self):\n",
    "        return self.width*self.height\n",
    "    \n",
    "class circle(Shape):\n",
    "    def __init__(self,radius):\n",
    "        self.radius=radius\n",
    "    def area(self):\n",
    "        return 3.14* self.radius*self.radius\n",
    "    ##defining a function\n",
    "def print_area(shape):\n",
    "    print(f\"area is {shape.area()}\")\n",
    "\n",
    "rect=rectangle(4,5)\n",
    "circl=circle(5)\n",
    "print_area(rect)\n",
    "print_area(circl)\n",
    "#print(rect.area())\n",
    "#print(circl.area())"
   ]
  },
  {
   "cell_type": "code",
   "execution_count": 13,
   "metadata": {},
   "outputs": [
    {
     "name": "stdout",
     "output_type": "stream",
     "text": [
      "Rectangle Info:\n",
      "Area: 20\n",
      "\n",
      "Circle Info:\n",
      "Area: 153.86\n"
     ]
    }
   ],
   "source": [
    "from abc import ABC, abstractmethod\n",
    "\n",
    "# Define an abstract class\n",
    "class Shape(ABC):\n",
    "    @abstractmethod\n",
    "    def area(self):\n",
    "        pass\n",
    "\n",
    "    \n",
    "\n",
    "# Subclass 1: Rectangle\n",
    "class Rectangle(Shape):\n",
    "    def __init__(self, width, height):\n",
    "        self.width = width\n",
    "        self.height = height\n",
    "\n",
    "    def area(self):\n",
    "        return self.width * self.height\n",
    "\n",
    "  \n",
    "\n",
    "# Subclass 2: Circle\n",
    "class Circle(Shape):\n",
    "    def __init__(self, radius):\n",
    "        self.radius = radius\n",
    "\n",
    "    def area(self):\n",
    "        return 3.14 * self.radius * self.radius\n",
    "\n",
    "  \n",
    "\n",
    "# Function demonstrating polymorphism\n",
    "def print_shape_info(shape):\n",
    "    print(f\"Area: {shape.area()}\")\n",
    "   \n",
    "\n",
    "# Create objects\n",
    "rectangle = Rectangle(4, 5)\n",
    "circle = Circle(7)\n",
    "\n",
    "# Call the same function with different objects\n",
    "print(\"Rectangle Info:\")\n",
    "print_shape_info(rectangle)\n",
    "\n",
    "print(\"\\nCircle Info:\")\n",
    "print_shape_info(circle)\n"
   ]
  },
  {
   "cell_type": "markdown",
   "metadata": {},
   "source": [
    "What is Polymorphism in Python?\n",
    "Polymorphism is one of the core concepts of object-oriented programming (OOP). It refers to the ability of different objects to respond to the same method or operation in their unique way.\n",
    "\n",
    "In simple terms:\n",
    "\n",
    "The same method name can behave differently depending on the object calling it.\n",
    "In Python, polymorphism is typically implemented through method overriding, where a subclass provides its own implementation of a method defined in a base class.\n",
    "\n",
    "Explanation Using the Example\n",
    "In your code:\n",
    "\n",
    "Polymorphism in Action:\n",
    "\n",
    "The Shape class defines a generic area method.\n",
    "The Rectangle and Circle subclasses override the area method to provide their own implementation.\n",
    "A single function, print_area, can work with any shape object, calling the appropriate area method for that object.\n",
    "How it works:\n",
    "\n",
    "When print_area(rect) is called, Python resolves the area() method for the Rectangle class and calculates width * height.\n",
    "Similarly, when print_area(circl) is called, Python resolves the area() method for the Circle class and calculates π * radius².\n",
    "Why use Polymorphism? Without polymorphism, you would need to write separate functions for each type of shape:\n",
    "\n",
    "python\n",
    "Copy code\n",
    "def print_rectangle_area(rectangle):\n",
    "    print(f\"Area is {rectangle.width * rectangle.height}\")\n",
    "\n",
    "def print_circle_area(circle):\n",
    "    print(f\"Area is {3.14 * circle.radius**2}\")\n",
    "This approach is less flexible and harder to maintain. By using polymorphism, you write a single function (print_area) that works for all shapes.\n",
    "\n",
    "Key Points to Emphasize in an Interview\n",
    "Unified Interface:\n",
    "\n",
    "Polymorphism allows you to treat objects of different classes as objects of a common base class.\n",
    "In this example, Rectangle and Circle are treated as Shape.\n",
    "Simplified Code:\n",
    "\n",
    "One function (print_area) can handle different types of objects without requiring separate functions.\n",
    "Extensibility:\n",
    "\n",
    "If a new shape (e.g., Triangle) is added, you only need to define its area method in the class. The print_area function will still work without any modifications."
   ]
  },
  {
   "cell_type": "markdown",
   "metadata": {},
   "source": []
  },
  {
   "cell_type": "code",
   "execution_count": 12,
   "metadata": {},
   "outputs": [
    {
     "name": "stdout",
     "output_type": "stream",
     "text": [
      "Car enginer started\n"
     ]
    }
   ],
   "source": [
    "from abc import ABC,abstractmethod\n",
    "\n",
    "## Define an abstract class\n",
    "class Vehicle(ABC):\n",
    "    @abstractmethod\n",
    "    def start_engine(self):\n",
    "        pass\n",
    "\n",
    "## Derived class 1\n",
    "class Car(Vehicle):\n",
    "    def start_engine(self):\n",
    "        return \"Car enginer started\"\n",
    "    \n",
    "## Derived class 2\n",
    "class Motorcycle(Vehicle):\n",
    "    def start_engine(self):\n",
    "        return \"Motorcycle enginer started\"\n",
    "    \n",
    "# Function that demonstrates polymorphism\n",
    "def start_vehicle(vehicle):\n",
    "    print(vehicle.start_engine())\n",
    "\n",
    "## create objects of cAr and Motorcycle\n",
    "\n",
    "car = Car()\n",
    "motorcycle = Motorcycle()\n",
    "\n",
    "start_vehicle(car)"
   ]
  },
  {
   "cell_type": "code",
   "execution_count": null,
   "metadata": {},
   "outputs": [],
   "source": []
  }
 ],
 "metadata": {
  "kernelspec": {
   "display_name": "Python 3",
   "language": "python",
   "name": "python3"
  },
  "language_info": {
   "codemirror_mode": {
    "name": "ipython",
    "version": 3
   },
   "file_extension": ".py",
   "mimetype": "text/x-python",
   "name": "python",
   "nbconvert_exporter": "python",
   "pygments_lexer": "ipython3",
   "version": "3.12.0"
  }
 },
 "nbformat": 4,
 "nbformat_minor": 2
}
