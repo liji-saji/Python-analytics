{
 "cells": [
  {
   "cell_type": "markdown",
   "metadata": {},
   "source": [
    "What is a Class?\n",
    "\n",
    "A class is like a blueprint or template.\n",
    "\n",
    "It describes how things should look and behave.\n",
    "\n",
    "Example: Think about a \"recipe for a cake\".\n",
    "\n",
    "\n",
    "The recipe tells you:\n",
    "\n",
    "What ingredients are needed (attributes like sugar, flour).\n",
    "\n",
    "What steps to follow (methods like mix, bake)."
   ]
  },
  {
   "cell_type": "code",
   "execution_count": 1,
   "metadata": {},
   "outputs": [],
   "source": [
    "class Cake():\n",
    "    flavor='Chocolate'  #Attribute\n",
    "\n",
    "    def Bake(self):   # this is a method\n",
    "        print('Baking the cake')"
   ]
  },
  {
   "cell_type": "markdown",
   "metadata": {},
   "source": [
    "An object is like the real cake you bake using the recipe (class).\n",
    "You can make as many cakes (objects) as you want from the recipe (class), each with its own ingredients and steps."
   ]
  },
  {
   "cell_type": "code",
   "execution_count": 3,
   "metadata": {},
   "outputs": [
    {
     "name": "stdout",
     "output_type": "stream",
     "text": [
      "Chocolate\n",
      "Baking the cake\n",
      "None\n"
     ]
    }
   ],
   "source": [
    "#Creating an object my_cake from the class Cake\n",
    "my_cake=Cake()\n",
    "print(my_cake.flavor)\n",
    "print(my_cake.Bake())"
   ]
  },
  {
   "cell_type": "code",
   "execution_count": 5,
   "metadata": {},
   "outputs": [
    {
     "name": "stdout",
     "output_type": "stream",
     "text": [
      "Julie\n",
      "Lab\n",
      "Julie is barking\n"
     ]
    }
   ],
   "source": [
    "#Example: A Simple Class with an Object\n",
    "# Define the class (blueprint)\n",
    "class Dog:\n",
    "    def __init__(self,name,breed):   # Initialize attributes\n",
    "        self.name=name\n",
    "        self.breed=breed\n",
    "    def bark(self):   # Method to make the dog bark\n",
    "        print(f'{self.name} is barking')\n",
    "\n",
    "# Create an object (dog) from the class\n",
    "\n",
    "my_dog=Dog('Julie','Lab')\n",
    "# Access the attributes\n",
    "print(my_dog.name)\n",
    "print(my_dog.breed)\n",
    "\n",
    "# Call the method\n",
    "my_dog.bark()"
   ]
  },
  {
   "cell_type": "code",
   "execution_count": 6,
   "metadata": {},
   "outputs": [
    {
     "name": "stdout",
     "output_type": "stream",
     "text": [
      "The Red Toyota is now driving.\n",
      "The Red Toyota is honking: Beep! Beep!\n",
      "The Red Toyota has stopped.\n",
      "The Blue Honda is now driving.\n",
      "The Blue Honda is honking: Beep! Beep!\n",
      "The Blue Honda has stopped.\n"
     ]
    }
   ],
   "source": [
    "# Step 1: Define the Blueprint (Class)\n",
    "class Car:\n",
    "    # Step 2: Initialize Attributes\n",
    "    def __init__(self, color, brand, engine_size):\n",
    "        self.color = color          # Attribute: Color\n",
    "        self.brand = brand          # Attribute: Brand\n",
    "        self.engine_size = engine_size  # Attribute: Engine size\n",
    "\n",
    "    # Define Methods\n",
    "    def drive(self):\n",
    "        print(f\"The {self.color} {self.brand} is now driving.\")\n",
    "\n",
    "    def stop(self):\n",
    "        print(f\"The {self.color} {self.brand} has stopped.\")\n",
    "\n",
    "    def honk(self):\n",
    "        print(f\"The {self.color} {self.brand} is honking: Beep! Beep!\")\n",
    "\n",
    "# Step 3: Create Objects (Cars)\n",
    "car1 = Car(\"Red\", \"Toyota\", \"1.6L\")  # A red Toyota car with an engine size of 1.6L\n",
    "car2 = Car(\"Blue\", \"Honda\", \"1.8L\")  # A blue Honda car with an engine size of 1.8L\n",
    "\n",
    "# Step 4: Call Methods on the Objects\n",
    "car1.drive()  # Output: The Red Toyota is now driving.\n",
    "car1.honk()   # Output: The Red Toyota is honking: Beep! Beep!\n",
    "car1.stop()   # Output: The Red Toyota has stopped.\n",
    "\n",
    "car2.drive()  # Output: The Blue Honda is now driving.\n",
    "car2.honk()   # Output: The Blue Honda is honking: Beep! Beep!\n",
    "car2.stop()   # Output: The Blue Honda has stopped.\n"
   ]
  },
  {
   "cell_type": "code",
   "execution_count": 7,
   "metadata": {},
   "outputs": [
    {
     "name": "stdout",
     "output_type": "stream",
     "text": [
      "5000\n"
     ]
    }
   ],
   "source": [
    "### Modeling a Bank Account\n",
    "\n",
    "## Define a class for bank account\n",
    "class BankAccount:\n",
    "    def __init__(self,owner,balance=0):\n",
    "        self.owner=owner\n",
    "        self.balance=balance\n",
    "\n",
    "    def deposit(self,amount):\n",
    "        self.balance+=amount #self.balance = self.balance + amount\n",
    "\n",
    "        print(f\"{amount} is deposited. New balance is {self.balance}\")\n",
    "\n",
    "    def withdraw(self,amount):\n",
    "        if amount>self.balance:\n",
    "            print(\"Insufficient funds!\")\n",
    "        else:\n",
    "            self.balance-=amount\n",
    "            print(f\"{amount} is withdrawn. New Balance is {self.balance}\")\n",
    "\n",
    "    def get_balance(self):\n",
    "        return self.balance\n",
    "    \n",
    "## create an account\n",
    "\n",
    "account=BankAccount(\"Krish\",5000)\n",
    "print(account.balance)\n",
    "\n",
    "    "
   ]
  },
  {
   "cell_type": "code",
   "execution_count": 8,
   "metadata": {},
   "outputs": [
    {
     "name": "stdout",
     "output_type": "stream",
     "text": [
      "1000 is deposited. New balance is 6000\n",
      "Insufficient funds!\n",
      "2000 is withdrawn. New Balance is 4000\n",
      "4000\n"
     ]
    }
   ],
   "source": [
    "# Deposit\n",
    "account.deposit(1000)  # Output: 1000 is deposited. New balance is 6000\n",
    "\n",
    "# Withdraw\n",
    "account.withdraw(7000)  # Output: Insufficient funds!\n",
    "account.withdraw(2000)  # Output: 2000 is withdrawn. New Balance is 4000\n",
    "\n",
    "# Check Balance\n",
    "print(account.get_balance())  # Output: 4000\n"
   ]
  },
  {
   "cell_type": "markdown",
   "metadata": {},
   "source": [
    "Key Points\n",
    "\n",
    "A class is the idea or plan (e.g., recipe, blueprint).  \n",
    "An object is the real thing created using the class (e.g., a cake, a car, or a dog).                              \n",
    "Attributes describe the object (e.g., name, color, flavor).                                                      \n",
    "Methods are actions the object can do (e.g., bark, drive, bake)."
   ]
  }
 ],
 "metadata": {
  "kernelspec": {
   "display_name": "Python 3",
   "language": "python",
   "name": "python3"
  },
  "language_info": {
   "codemirror_mode": {
    "name": "ipython",
    "version": 3
   },
   "file_extension": ".py",
   "mimetype": "text/x-python",
   "name": "python",
   "nbconvert_exporter": "python",
   "pygments_lexer": "ipython3",
   "version": "3.12.0"
  }
 },
 "nbformat": 4,
 "nbformat_minor": 2
}
