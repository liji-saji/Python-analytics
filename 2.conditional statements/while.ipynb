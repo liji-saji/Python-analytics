{
 "cells": [
  {
   "cell_type": "code",
   "execution_count": 1,
   "metadata": {},
   "outputs": [
    {
     "name": "stdout",
     "output_type": "stream",
     "text": [
      "0\n",
      "1\n",
      "2\n",
      "3\n",
      "4\n"
     ]
    }
   ],
   "source": [
    "#while loop\n",
    "#while loop continues to execute as the condition is true\n",
    "count=0\n",
    "while count<=4:\n",
    "    print(count)\n",
    "    count+=1\n"
   ]
  },
  {
   "cell_type": "code",
   "execution_count": 4,
   "metadata": {},
   "outputs": [
    {
     "name": "stdout",
     "output_type": "stream",
     "text": [
      "0\n"
     ]
    }
   ],
   "source": [
    "count=0\n",
    "while count%2==0:\n",
    "    print(count)\n",
    "    count+=1\n",
    "    \n"
   ]
  },
  {
   "cell_type": "code",
   "execution_count": 10,
   "metadata": {},
   "outputs": [
    {
     "name": "stdout",
     "output_type": "stream",
     "text": [
      "1\n",
      "2\n",
      "3\n",
      "4\n",
      "5\n",
      "6\n",
      "7\n",
      "8\n",
      "9\n",
      "10\n"
     ]
    }
   ],
   "source": [
    "#Write a program to print numbers from 1 to 10 using a while loop.\n",
    "count=1\n",
    "while count<=10:\n",
    "    print(count)\n",
    "    count+=1\n",
    "    "
   ]
  },
  {
   "cell_type": "code",
   "execution_count": null,
   "metadata": {},
   "outputs": [],
   "source": [
    "#Ask the user for a number N and calculate the sum of numbers from 1 to N using a while loop.\n",
    "N=input('number')\n",
    "while "
   ]
  },
  {
   "cell_type": "code",
   "execution_count": 3,
   "metadata": {},
   "outputs": [
    {
     "name": "stdout",
     "output_type": "stream",
     "text": [
      "14\n",
      "Wrong guess. Try again.\n",
      "15\n",
      "Correct! You guessed the number!\n"
     ]
    }
   ],
   "source": [
    "#Allow the user 5 attempts to guess a secret number correctly. If they fail, print \"Game Over!\"secret_number = 15\n",
    "secret_number =15\n",
    "attempts = 5\n",
    "while attempts > 0:\n",
    "    guess = int(input(\"Guess the number: \"))\n",
    "    print(guess)\n",
    "    if guess == secret_number:\n",
    "        print(\"Correct! You guessed the number!\")\n",
    "        break\n",
    "    else:\n",
    "        print(\"Wrong guess. Try again.\")\n",
    "    attempts -= 1\n",
    "if attempts == 0:\n",
    "    print(\"Game Over! The secret number was\", secret_number)\n"
   ]
  },
  {
   "cell_type": "markdown",
   "metadata": {},
   "source": [
    " loop control statements\n",
    " The break, continue, and pass statements are used to control the flow of loops or code execution."
   ]
  },
  {
   "cell_type": "code",
   "execution_count": 5,
   "metadata": {},
   "outputs": [
    {
     "name": "stdout",
     "output_type": "stream",
     "text": [
      "0\n",
      "1\n",
      "2\n",
      "3\n",
      "4\n"
     ]
    }
   ],
   "source": [
    "\n",
    "#break\n",
    "#the break statement exits the loop prematurely\n",
    "\n",
    "for i in range(10):\n",
    "    if i==5:\n",
    "        break\n",
    "    print(i)"
   ]
  },
  {
   "cell_type": "code",
   "execution_count": 7,
   "metadata": {},
   "outputs": [
    {
     "name": "stdout",
     "output_type": "stream",
     "text": [
      "1\n",
      "3\n",
      "5\n",
      "7\n",
      "9\n"
     ]
    }
   ],
   "source": [
    "#The continue statement skips the rest of the code inside the loop for the current iteration and moves to the next iteration of the loop.\n",
    "for i in range(10):\n",
    "    if i%2==0:\n",
    "        continue\n",
    "    print(i) #it can also we can use to print the odd numbers"
   ]
  },
  {
   "cell_type": "code",
   "execution_count": 9,
   "metadata": {},
   "outputs": [
    {
     "name": "stdout",
     "output_type": "stream",
     "text": [
      "0\n",
      "1\n",
      "2\n",
      "3\n",
      "4\n",
      "5\n",
      "6\n",
      "7\n",
      "8\n",
      "9\n"
     ]
    }
   ],
   "source": [
    "#The pass statement is a null operation;it does nothing\n",
    "for i in range(10):\n",
    "    if i%2==0:\n",
    "        pass\n",
    "    print(i)"
   ]
  },
  {
   "cell_type": "code",
   "execution_count": 10,
   "metadata": {},
   "outputs": [
    {
     "name": "stdout",
     "output_type": "stream",
     "text": [
      "i:0,j:0\n",
      "i:0,j:1\n",
      "i:0,j:2\n",
      "i:0,j:3\n",
      "i:0,j:4\n",
      "i:1,j:0\n",
      "i:1,j:1\n",
      "i:1,j:2\n",
      "i:1,j:3\n",
      "i:1,j:4\n"
     ]
    }
   ],
   "source": [
    "#Nested loop\n",
    "for i in range(2):\n",
    "    for j in range(5):\n",
    "        print(f\"i:{i},j:{j}\")"
   ]
  },
  {
   "cell_type": "code",
   "execution_count": null,
   "metadata": {},
   "outputs": [],
   "source": []
  }
 ],
 "metadata": {
  "kernelspec": {
   "display_name": "Python 3",
   "language": "python",
   "name": "python3"
  },
  "language_info": {
   "codemirror_mode": {
    "name": "ipython",
    "version": 3
   },
   "file_extension": ".py",
   "mimetype": "text/x-python",
   "name": "python",
   "nbconvert_exporter": "python",
   "pygments_lexer": "ipython3",
   "version": "3.12.0"
  }
 },
 "nbformat": 4,
 "nbformat_minor": 2
}
