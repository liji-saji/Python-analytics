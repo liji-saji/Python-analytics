{
 "cells": [
  {
   "cell_type": "code",
   "execution_count": 4,
   "metadata": {},
   "outputs": [
    {
     "name": "stdout",
     "output_type": "stream",
     "text": [
      "30\n",
      "12\n",
      "sum: 42\n",
      "substraction: 18\n",
      "multiplication: 360\n",
      "Division: 2.5\n"
     ]
    }
   ],
   "source": [
    "a=int(input('first number'))\n",
    "b=int(input('second nmbr'))\n",
    "print('a:',a)\n",
    "print(b)\n",
    "sum=a+b\n",
    "subs=a-b\n",
    "mult=a*b\n",
    "div=a/b\n",
    "\n",
    "print('sum:',sum)\n",
    "print('substraction:',subs)\n",
    "print('multiplication:',mult)\n",
    "print('Division:', div)\n"
   ]
  },
  {
   "cell_type": "code",
   "execution_count": 6,
   "metadata": {},
   "outputs": [
    {
     "name": "stdout",
     "output_type": "stream",
     "text": [
      "7\n",
      "a is positive\n",
      "odd\n"
     ]
    }
   ],
   "source": [
    "a=int(input('first number'))\n",
    "print(a)\n",
    "\n",
    "if a>0:\n",
    "    print('a is positive')\n",
    "    if a%2==0:\n",
    "        print('a is even')\n",
    "    else:\n",
    "        print('odd')\n",
    "else:\n",
    "    print('a is 0 or less than 0')\n"
   ]
  },
  {
   "cell_type": "code",
   "execution_count": 30,
   "metadata": {},
   "outputs": [
    {
     "name": "stdout",
     "output_type": "stream",
     "text": [
      "3\n",
      "no fee\n"
     ]
    }
   ],
   "source": [
    "age=int(input('Age'))\n",
    "print(age)\n",
    "\n",
    "\n",
    "if age<=7:\n",
    "    print('no fee')\n",
    "elif age>=8 and age<=18:\n",
    "    print('fee is 2£')\n",
    "\n",
    "elif age>=18 and age<=60:\n",
    "    is_student=input('Are you a student?:yes/no').lower()\n",
    "    if is_student=='yes':\n",
    "        print('discount: fee is 3£')\n",
    "    else:\n",
    "        print('fee is 5£')   \n",
    "else:\n",
    "    print('Invalid')\n"
   ]
  },
  {
   "cell_type": "code",
   "execution_count": 23,
   "metadata": {},
   "outputs": [
    {
     "name": "stdout",
     "output_type": "stream",
     "text": [
      "40\n",
      "Fee is 5£\n"
     ]
    }
   ],
   "source": [
    "age = int(input('Age: '))\n",
    "print(age)\n",
    "\n",
    "if age < 7:\n",
    "    print('Invalid')\n",
    "elif age >= 7 and age < 18:\n",
    "    print('Fee is 2£')\n",
    "elif age >= 18 and age <= 60:\n",
    "    is_student = input('Are you a student? (yes/no): ').lower()\n",
    "    if is_student == 'yes':\n",
    "        print('Discount: Fee is 3£')\n",
    "    else:\n",
    "        print('Fee is 5£')\n",
    "else:\n",
    "    print('There is no fee')\n"
   ]
  },
  {
   "cell_type": "code",
   "execution_count": 25,
   "metadata": {},
   "outputs": [
    {
     "name": "stdout",
     "output_type": "stream",
     "text": [
      "40\n",
      "there is no fee\n"
     ]
    }
   ],
   "source": [
    "age=int(input('Age'))\n",
    "print(age)\n",
    "\n",
    "\n",
    "if age>=7:\n",
    "    print('there is no fee')\n",
    "elif age>=8 and age<=18:\n",
    "    print('fee is 2£')\n",
    "\n",
    "elif age>=18 and age<=60:\n",
    "    is_student=input('Are you a student?:yes/no').lower()\n",
    "    if is_student=='yes':\n",
    "        print('discount: fee is 3£')\n",
    "    else:\n",
    "        print('fee is 5£')   \n",
    "else:\n",
    "    print('Invalid')\n"
   ]
  },
  {
   "cell_type": "code",
   "execution_count": null,
   "metadata": {},
   "outputs": [],
   "source": []
  }
 ],
 "metadata": {
  "kernelspec": {
   "display_name": "Python 3",
   "language": "python",
   "name": "python3"
  },
  "language_info": {
   "codemirror_mode": {
    "name": "ipython",
    "version": 3
   },
   "file_extension": ".py",
   "mimetype": "text/x-python",
   "name": "python",
   "nbconvert_exporter": "python",
   "pygments_lexer": "ipython3",
   "version": "3.12.0"
  }
 },
 "nbformat": 4,
 "nbformat_minor": 2
}
